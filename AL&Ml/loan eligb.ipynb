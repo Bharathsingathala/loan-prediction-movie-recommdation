{
 "cells": [
  {
   "cell_type": "code",
   "execution_count": 6,
   "id": "73b96be2-ad17-496f-a662-310a21f90c90",
   "metadata": {},
   "outputs": [
    {
     "name": "stdout",
     "output_type": "stream",
     "text": [
      "\u001b[7m\u001b[32mTHE REQUIRED LIBRARIES WERE SUCCESSFULLY IMPORTED...\u001b[0m\n"
     ]
    }
   ],
   "source": [
    "import warnings \n",
    "import pandas as pd\n",
    "import numpy as np \n",
    "import matplotlib.pyplot as plt \n",
    "import seaborn as sns \n",
    "from sklearn.model_selection import train_test_split \n",
    "from sklearn.preprocessing import MinMaxScaler, StandardScaler\n",
    "from sklearn.metrics import accuracy_score, classification_report \n",
    "from termcolor import colored \n",
    "warnings.filterwarnings('ignore') \n",
    "print(colored(\"THE REQUIRED LIBRARIES WERE SUCCESSFULLY IMPORTED...\", \"green\", attrs=['reverse']))"
   ]
  },
  {
   "cell_type": "code",
   "execution_count": 8,
   "id": "0b5dbeac-9f9c-4d88-bdd1-d7560302a0a4",
   "metadata": {},
   "outputs": [
    {
     "name": "stdout",
     "output_type": "stream",
     "text": [
      "\u001b[7m\u001b[32mTHE DATASET LOADED SUCCESSFULLY...\u001b[0m\n"
     ]
    }
   ],
   "source": [
    "file_path ='Loan_Data.csv'\n",
    "try:\n",
    "    loan_data = pd.read_csv(file_path)\n",
    "    \n",
    "    print(colored(\"THE DATASET LOADED SUCCESSFULLY...\", \"green\", attrs=['reverse']))\n",
    "\n",
    "except FileNotFoundError:\n",
    "    print(colored(\"ERROR: File not found!\", \"red\", attrs=['reverse']))\n",
    "\n",
    "except Exception as e:\n",
    "    print(colored(f\"ERROR: {e}\", \"red\", attrs=['reverse']))"
   ]
  },
  {
   "cell_type": "code",
   "execution_count": 10,
   "id": "8121d20a-aba1-4e4b-9b3b-db12fbd93ffc",
   "metadata": {},
   "outputs": [
    {
     "name": "stdout",
     "output_type": "stream",
     "text": [
      "\u001b[7m\u001b[32mAs you can see, the first 2 rows in the dataset:\n",
      "\u001b[0m\n",
      "\u001b[7m\u001b[97mRow 1:\u001b[0m\n",
      "Loan_ID              LP001002\n",
      "Gender                   Male\n",
      "Married                    No\n",
      "Dependents                  0\n",
      "Education            Graduate\n",
      "Self_Employed              No\n",
      "ApplicantIncome          5849\n",
      "CoapplicantIncome         0.0\n",
      "LoanAmount                NaN\n",
      "Loan_Amount_Term        360.0\n",
      "Credit_History            1.0\n",
      "Property_Area           Urban\n",
      "Loan_Status                 Y\n",
      "Name: 0, dtype: object\n",
      "--------------------------------------\n",
      "\u001b[7m\u001b[97mRow 2:\u001b[0m\n",
      "Loan_ID              LP001003\n",
      "Gender                   Male\n",
      "Married                   Yes\n",
      "Dependents                  1\n",
      "Education            Graduate\n",
      "Self_Employed              No\n",
      "ApplicantIncome          4583\n",
      "CoapplicantIncome      1508.0\n",
      "LoanAmount              128.0\n",
      "Loan_Amount_Term        360.0\n",
      "Credit_History            1.0\n",
      "Property_Area           Rural\n",
      "Loan_Status                 N\n",
      "Name: 1, dtype: object\n",
      "--------------------------------------\n"
     ]
    }
   ],
   "source": [
    "loan_data_rows = loan_data.head(2)\n",
    "print(colored('As you can see, the first 2 rows in the dataset:\\n', 'green', attrs=['reverse']))\n",
    "for index, row in loan_data_rows.iterrows(): \n",
    "    print(colored(f\"Row {index + 1}:\", \"white\", attrs=['reverse']))\n",
    "    print(row)\n",
    "    print(\"--------------------------------------\")"
   ]
  },
  {
   "cell_type": "code",
   "execution_count": 12,
   "id": "24b38ba6-7dd4-405d-9559-debee123f7c1",
   "metadata": {},
   "outputs": [
    {
     "name": "stdout",
     "output_type": "stream",
     "text": [
      "The shape = (614, 13)\n",
      "Number of Rows: 614\n",
      "Number of Columns: 13\n",
      "Number of Features: 12\n",
      "Number of All Data: 7982\n",
      "\u001b[7m\u001b[34mThe task has been completed without any errors....\u001b[0m\n"
     ]
    }
   ],
   "source": [
    "print(\"The shape =\", loan_data.shape)\n",
    "num_rows, num_cols = loan_data.shape\n",
    "num_features = num_cols - 1\n",
    "num_data = num_rows * num_cols\n",
    "print(f\"Number of Rows: {num_rows}\")\n",
    "print(f\"Number of Columns: {num_cols}\")\n",
    "print(f\"Number of Features: {num_features}\")\n",
    "print(f\"Number of All Data: {num_data}\")\n",
    "print(colored(\"The task has been completed without any errors....\", \"blue\", attrs=['reverse']))"
   ]
  },
  {
   "cell_type": "code",
   "execution_count": 10,
   "id": "3c82d90d-7a64-47c4-93d5-6253a629c06a",
   "metadata": {},
   "outputs": [
    {
     "name": "stdout",
     "output_type": "stream",
     "text": [
      "<class 'pandas.core.frame.DataFrame'>\n",
      "RangeIndex: 614 entries, 0 to 613\n",
      "Data columns (total 13 columns):\n",
      " #   Column             Non-Null Count  Dtype  \n",
      "---  ------             --------------  -----  \n",
      " 0   Loan_ID            614 non-null    object \n",
      " 1   Gender             601 non-null    object \n",
      " 2   Married            611 non-null    object \n",
      " 3   Dependents         599 non-null    object \n",
      " 4   Education          614 non-null    object \n",
      " 5   Self_Employed      582 non-null    object \n",
      " 6   ApplicantIncome    614 non-null    int64  \n",
      " 7   CoapplicantIncome  614 non-null    float64\n",
      " 8   LoanAmount         592 non-null    float64\n",
      " 9   Loan_Amount_Term   600 non-null    float64\n",
      " 10  Credit_History     564 non-null    float64\n",
      " 11  Property_Area      614 non-null    object \n",
      " 12  Loan_Status        614 non-null    object \n",
      "dtypes: float64(4), int64(1), object(8)\n",
      "memory usage: 62.5+ KB\n",
      "None\n",
      "\u001b[7m\u001b[32mThe task has been completed without any errors....\u001b[0m\n"
     ]
    }
   ],
   "source": [
    "print(loan_data.info())\n",
    "print(colored(\"The task has been completed without any errors....\", \"green\", attrs=['reverse']))"
   ]
  },
  {
   "cell_type": "code",
   "execution_count": 12,
   "id": "581eef26-f9ed-4efa-8920-7e6fb2292c60",
   "metadata": {},
   "outputs": [
    {
     "data": {
      "text/html": [
       "<div>\n",
       "<style scoped>\n",
       "    .dataframe tbody tr th:only-of-type {\n",
       "        vertical-align: middle;\n",
       "    }\n",
       "\n",
       "    .dataframe tbody tr th {\n",
       "        vertical-align: top;\n",
       "    }\n",
       "\n",
       "    .dataframe thead th {\n",
       "        text-align: right;\n",
       "    }\n",
       "</style>\n",
       "<table border=\"1\" class=\"dataframe\">\n",
       "  <thead>\n",
       "    <tr style=\"text-align: right;\">\n",
       "      <th></th>\n",
       "      <th>count</th>\n",
       "      <th>mean</th>\n",
       "      <th>std</th>\n",
       "      <th>min</th>\n",
       "      <th>25%</th>\n",
       "      <th>50%</th>\n",
       "      <th>75%</th>\n",
       "      <th>max</th>\n",
       "    </tr>\n",
       "  </thead>\n",
       "  <tbody>\n",
       "    <tr>\n",
       "      <th>ApplicantIncome</th>\n",
       "      <td>614.0</td>\n",
       "      <td>5403.46</td>\n",
       "      <td>6109.04</td>\n",
       "      <td>150.0</td>\n",
       "      <td>2877.5</td>\n",
       "      <td>3812.5</td>\n",
       "      <td>5795.00</td>\n",
       "      <td>81000.0</td>\n",
       "    </tr>\n",
       "    <tr>\n",
       "      <th>CoapplicantIncome</th>\n",
       "      <td>614.0</td>\n",
       "      <td>1621.25</td>\n",
       "      <td>2926.25</td>\n",
       "      <td>0.0</td>\n",
       "      <td>0.0</td>\n",
       "      <td>1188.5</td>\n",
       "      <td>2297.25</td>\n",
       "      <td>41667.0</td>\n",
       "    </tr>\n",
       "    <tr>\n",
       "      <th>LoanAmount</th>\n",
       "      <td>592.0</td>\n",
       "      <td>146.41</td>\n",
       "      <td>85.59</td>\n",
       "      <td>9.0</td>\n",
       "      <td>100.0</td>\n",
       "      <td>128.0</td>\n",
       "      <td>168.00</td>\n",
       "      <td>700.0</td>\n",
       "    </tr>\n",
       "    <tr>\n",
       "      <th>Loan_Amount_Term</th>\n",
       "      <td>600.0</td>\n",
       "      <td>342.00</td>\n",
       "      <td>65.12</td>\n",
       "      <td>12.0</td>\n",
       "      <td>360.0</td>\n",
       "      <td>360.0</td>\n",
       "      <td>360.00</td>\n",
       "      <td>480.0</td>\n",
       "    </tr>\n",
       "    <tr>\n",
       "      <th>Credit_History</th>\n",
       "      <td>564.0</td>\n",
       "      <td>0.84</td>\n",
       "      <td>0.36</td>\n",
       "      <td>0.0</td>\n",
       "      <td>1.0</td>\n",
       "      <td>1.0</td>\n",
       "      <td>1.00</td>\n",
       "      <td>1.0</td>\n",
       "    </tr>\n",
       "  </tbody>\n",
       "</table>\n",
       "</div>"
      ],
      "text/plain": [
       "                   count     mean      std    min     25%     50%      75%  \\\n",
       "ApplicantIncome    614.0  5403.46  6109.04  150.0  2877.5  3812.5  5795.00   \n",
       "CoapplicantIncome  614.0  1621.25  2926.25    0.0     0.0  1188.5  2297.25   \n",
       "LoanAmount         592.0   146.41    85.59    9.0   100.0   128.0   168.00   \n",
       "Loan_Amount_Term   600.0   342.00    65.12   12.0   360.0   360.0   360.00   \n",
       "Credit_History     564.0     0.84     0.36    0.0     1.0     1.0     1.00   \n",
       "\n",
       "                       max  \n",
       "ApplicantIncome    81000.0  \n",
       "CoapplicantIncome  41667.0  \n",
       "LoanAmount           700.0  \n",
       "Loan_Amount_Term     480.0  \n",
       "Credit_History         1.0  "
      ]
     },
     "execution_count": 12,
     "metadata": {},
     "output_type": "execute_result"
    }
   ],
   "source": [
    "loan_data.describe().T.round(2)"
   ]
  },
  {
   "cell_type": "code",
   "execution_count": 14,
   "id": "84eee045-89a4-4c39-9009-b15d30744e83",
   "metadata": {},
   "outputs": [
    {
     "data": {
      "text/html": [
       "<div>\n",
       "<style scoped>\n",
       "    .dataframe tbody tr th:only-of-type {\n",
       "        vertical-align: middle;\n",
       "    }\n",
       "\n",
       "    .dataframe tbody tr th {\n",
       "        vertical-align: top;\n",
       "    }\n",
       "\n",
       "    .dataframe thead th {\n",
       "        text-align: right;\n",
       "    }\n",
       "</style>\n",
       "<table border=\"1\" class=\"dataframe\">\n",
       "  <thead>\n",
       "    <tr style=\"text-align: right;\">\n",
       "      <th></th>\n",
       "      <th>Loan_ID</th>\n",
       "      <th>Gender</th>\n",
       "      <th>Married</th>\n",
       "      <th>Dependents</th>\n",
       "      <th>Education</th>\n",
       "      <th>Self_Employed</th>\n",
       "      <th>Property_Area</th>\n",
       "      <th>Loan_Status</th>\n",
       "    </tr>\n",
       "  </thead>\n",
       "  <tbody>\n",
       "    <tr>\n",
       "      <th>count</th>\n",
       "      <td>614</td>\n",
       "      <td>601</td>\n",
       "      <td>611</td>\n",
       "      <td>599</td>\n",
       "      <td>614</td>\n",
       "      <td>582</td>\n",
       "      <td>614</td>\n",
       "      <td>614</td>\n",
       "    </tr>\n",
       "    <tr>\n",
       "      <th>unique</th>\n",
       "      <td>614</td>\n",
       "      <td>2</td>\n",
       "      <td>2</td>\n",
       "      <td>4</td>\n",
       "      <td>2</td>\n",
       "      <td>2</td>\n",
       "      <td>3</td>\n",
       "      <td>2</td>\n",
       "    </tr>\n",
       "    <tr>\n",
       "      <th>top</th>\n",
       "      <td>LP001002</td>\n",
       "      <td>Male</td>\n",
       "      <td>Yes</td>\n",
       "      <td>0</td>\n",
       "      <td>Graduate</td>\n",
       "      <td>No</td>\n",
       "      <td>Semiurban</td>\n",
       "      <td>Y</td>\n",
       "    </tr>\n",
       "    <tr>\n",
       "      <th>freq</th>\n",
       "      <td>1</td>\n",
       "      <td>489</td>\n",
       "      <td>398</td>\n",
       "      <td>345</td>\n",
       "      <td>480</td>\n",
       "      <td>500</td>\n",
       "      <td>233</td>\n",
       "      <td>422</td>\n",
       "    </tr>\n",
       "  </tbody>\n",
       "</table>\n",
       "</div>"
      ],
      "text/plain": [
       "         Loan_ID Gender Married Dependents Education Self_Employed  \\\n",
       "count        614    601     611        599       614           582   \n",
       "unique       614      2       2          4         2             2   \n",
       "top     LP001002   Male     Yes          0  Graduate            No   \n",
       "freq           1    489     398        345       480           500   \n",
       "\n",
       "       Property_Area Loan_Status  \n",
       "count            614         614  \n",
       "unique             3           2  \n",
       "top        Semiurban           Y  \n",
       "freq             233         422  "
      ]
     },
     "execution_count": 14,
     "metadata": {},
     "output_type": "execute_result"
    }
   ],
   "source": [
    "loan_data.describe(include=object)"
   ]
  },
  {
   "cell_type": "code",
   "execution_count": 16,
   "id": "05c7a277-af71-4d71-a6b4-382e68438e2a",
   "metadata": {},
   "outputs": [
    {
     "name": "stdout",
     "output_type": "stream",
     "text": [
      "Gender\n",
      "Male      489\n",
      "Female    112\n",
      "NaN        13\n",
      "Name: count, dtype: int64\n"
     ]
    },
    {
     "data": {
      "image/png": "[encoded data removed]",
      "text/plain": [
       "<Figure size 640x480 with 1 Axes>"
      ]
     },
     "metadata": {},
     "output_type": "display_data"
    }
   ],
   "source": [
    "GenderAnalysis = loan_data.Gender.value_counts(dropna=False)\n",
    "print(GenderAnalysis)\n",
    "sns.countplot(x=\"Gender\", data=loan_data, palette=\"flare\")\n",
    "plt.show()"
   ]
  },
  {
   "cell_type": "code",
   "execution_count": 18,
   "id": "73b4767e-f83d-46ab-85d8-1327252a54eb",
   "metadata": {},
   "outputs": [
    {
     "name": "stdout",
     "output_type": "stream",
     "text": [
      "Dependents\n",
      "0      345\n",
      "1      102\n",
      "2      101\n",
      "3+      51\n",
      "NaN     15\n",
      "Name: count, dtype: int64\n"
     ]
    },
    {
     "data": {
      "image/png": "[encoded data removed]",
      "text/plain": [
       "<Figure size 640x480 with 1 Axes>"
      ]
     },
     "metadata": {},
     "output_type": "display_data"
    }
   ],
   "source": [
    "DependentsAnalysis = loan_data.Dependents.value_counts(dropna=False)\n",
    "print(DependentsAnalysis)\n",
    "sns.countplot(x=\"Dependents\", data=loan_data, palette=\"flare\")\n",
    "plt.show()"
   ]
  },
  {
   "cell_type": "code",
   "execution_count": 20,
   "id": "6f1e9579-aea6-41dd-aaf5-c53f1bc5277e",
   "metadata": {},
   "outputs": [
    {
     "data": {
      "image/png": "[encoded data removed]",
      "text/plain": [
       "<Figure size 1500x750 with 2 Axes>"
      ]
     },
     "metadata": {},
     "output_type": "display_data"
    }
   ],
   "source": [
    "correlation_matrix = loan_data.corr(numeric_only=True)\n",
    "\n",
    "# Create a heatmap figure with specified size (in inches)\n",
    "plt.figure(figsize=(15, 7.5))\n",
    "\n",
    "# Generate a heatmap to visualize the correlation matrix\n",
    "sns.heatmap(correlation_matrix, annot=True, cmap='flare') # annot: write the data value in each cell\n",
    "\n",
    "# Add a title to t\n",
    "plt.title('Correlation Matrix')\n",
    "\n",
    "# Display the heatmap\n",
    "plt.show()"
   ]
  },
  {
   "cell_type": "code",
   "execution_count": null,
   "id": "41c05916-1f32-4a5f-9d82-447e34509712",
   "metadata": {},
   "outputs": [],
   "source": []
  }
 ],
 "metadata": {
  "kernelspec": {
   "display_name": "Python 3 (ipykernel)",
   "language": "python",
   "name": "python3"
  },
  "language_info": {
   "codemirror_mode": {
    "name": "ipython",
    "version": 3
   },
   "file_extension": ".py",
   "mimetype": "text/x-python",
   "name": "python",
   "nbconvert_exporter": "python",
   "pygments_lexer": "ipython3",
   "version": "3.11.5"
  }
 },
 "nbformat": 4,
 "nbformat_minor": 5
}
